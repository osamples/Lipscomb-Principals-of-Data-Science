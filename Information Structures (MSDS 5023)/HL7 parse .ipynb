{
 "cells": [
  {
   "cell_type": "markdown",
   "metadata": {},
   "source": [
    "#Using ReGEx to split an HL7 file "
   ]
  },
  {
   "cell_type": "code",
   "execution_count": 8,
   "metadata": {},
   "outputs": [],
   "source": [
    " import re\n",
    " import itertools "
   ]
  },
  {
   "cell_type": "code",
   "execution_count": 17,
   "metadata": {},
   "outputs": [],
   "source": [
    "with open('C:/Users/jharbour/nightfour/nightfive/samplehl7','r') as f:\n",
    "    hl7 = f.read() "
   ]
  },
  {
   "cell_type": "code",
   "execution_count": 27,
   "metadata": {},
   "outputs": [],
   "source": [
    "hl7_comp = re.compile(hl7)"
   ]
  },
  {
   "cell_type": "code",
   "execution_count": 52,
   "metadata": {},
   "outputs": [],
   "source": [
    "segs = re.split('\\|',hl7) # use the \\ in front of a special character."
   ]
  },
  {
   "cell_type": "code",
   "execution_count": 63,
   "metadata": {},
   "outputs": [],
   "source": [
    "#segs"
   ]
  },
  {
   "cell_type": "code",
   "execution_count": 60,
   "metadata": {},
   "outputs": [],
   "source": [
    "subs = re.split('\\^',hl7)"
   ]
  },
  {
   "cell_type": "code",
   "execution_count": 64,
   "metadata": {},
   "outputs": [],
   "source": [
    "#subs"
   ]
  },
  {
   "cell_type": "code",
   "execution_count": 65,
   "metadata": {},
   "outputs": [],
   "source": [
    "comps = re.split('\\~',hl7)"
   ]
  },
  {
   "cell_type": "code",
   "execution_count": 66,
   "metadata": {},
   "outputs": [
    {
     "data": {
      "text/plain": [
       "['MSH|^',\n",
       " '\\\\&|RLY_NB|RILEY|NEWBORN|REGEN|20051202070251||ORU^R01|||2.3PID|||72360601||Doe^John||20050908155100|M|Jones|White||||||||||||Non HispanicNK1||Doe^Jane|Mother|123 MAIN STREET^^GREENWOOD^IN^46143^^^^JOHNSON|3175350809|||||||||||19791116PV1|||||||^SMITH^LYNETTEOBR|1|K049860^ISDHNB|200509220256^RLY_NB|^New Born Screening^L|||20050919201500|||||||20050920|||||||||||||||K049860&ISDHNB^97123&RLY_NB|||||HCZLR|XYZ STREET^SUITE 100^SHELBYVILLE^IN^46176|^^267||317/398-0000OBX|1|NM|14248^Weight of Newborn Baby^R||3568|gOBX|2|NM|142227^Birth Order^R||AOBX|3|NM|^Birth hospital code^L||010OBX|4|ST|^Type of Sample^L||RepeatOBX|5|DT|^Date and time of first protein feed^L||20050801023000OBX|6|ST|^Type of protein feed^L||LACTOSEOBX|7|ST|^Was the baby premature?^L||NoOBX|8|ST|^Was the baby transfused?^L||YesOBX|9|DT|^Date Baby Transfused^L||20050911OBX|10|NM|5081^Gestation Age^R||40|weeksOBX|11|DT|^Date and Time mailer was printed^L||20050921121320OBX|12|ST|^Normal^L||YesOBX|13|TX|TS-F-01-002^Endocrine Disorders^L||Borderline',\n",
       " 'The screen for Congenital Hypothyroidism is abnormal.  Further follow-up is necessary to evaluatethis infant.||< 25 mcIU/ml|||||||20050916151000OBX|14|TX|GA-F-01-024^Galactosemia^L||Invalid',\n",
       " 'The GALT could not be evaluated because the infant was transfused with RBCs. The total Galactose was used to evaluate this infant for Galactosemia.||> 3.0 u/gm Hgb|||||||20050919201500OBX|15|TX|TG-C-01-002^Galactosemia^L||Borderline',\n",
       " 'The Galactosemia screen is abnormal.  Further follow-up is necessary to evaluate this infant.||< 7.0 mg/dL|||||||20050919201500OBX|16|ST|^Hearing not screened^L||N\\n']"
      ]
     },
     "execution_count": 66,
     "metadata": {},
     "output_type": "execute_result"
    }
   ],
   "source": [
    "#comps"
   ]
  },
  {
   "cell_type": "code",
   "execution_count": null,
   "metadata": {},
   "outputs": [],
   "source": []
  }
 ],
 "metadata": {
  "kernelspec": {
   "display_name": "Python 3",
   "language": "python",
   "name": "python3"
  },
  "language_info": {
   "codemirror_mode": {
    "name": "ipython",
    "version": 3
   },
   "file_extension": ".py",
   "mimetype": "text/x-python",
   "name": "python",
   "nbconvert_exporter": "python",
   "pygments_lexer": "ipython3",
   "version": "3.7.3"
  }
 },
 "nbformat": 4,
 "nbformat_minor": 2
}
