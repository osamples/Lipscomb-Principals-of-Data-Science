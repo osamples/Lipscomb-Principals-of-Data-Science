{
 "cells": [
  {
   "cell_type": "markdown",
   "metadata": {},
   "source": [
    "# 1. Create the Database and Proper Schema"
   ]
  },
  {
   "cell_type": "code",
   "execution_count": 2,
   "metadata": {},
   "outputs": [],
   "source": [
    "##Create one database with three tables\n",
    "\n",
    "\n",
    "import sqlite3\n",
    "db = sqlite3.connect('alien-life.db')\n",
    "cursor = db.cursor()\n",
    "\n",
    "cursor.execute(\"PRAGMA foreign_keys = 1\")\n",
    "\n",
    "cross_ref_table = \"\"\"CREATE TABLE CROSS_REF_TABLE( \n",
    "            patient_id      INTEGER PRIMARY KEY AUTOINCREMENT, \n",
    "            patient_age     FLOAT\n",
    ");\"\"\"\n",
    "\n",
    "cursor.execute(cross_ref_table)\n",
    "db.commit()\n",
    "\n",
    "boran_table = \"\"\"CREATE TABLE BORAN_TABLE(\n",
    "            patient_id      INTEGER NOT NULL,\n",
    "            blood_pressure  FLOAT,\n",
    "            exercise        FLOAT,\n",
    "            weight          FLOAT,\n",
    "            glucose         FLOAT,\n",
    "            bmi             FLOAT,\n",
    "            planet_id       INTEGER,\n",
    "            FOREIGN KEY(patient_id) REFERENCES cross_ref_table(patient_id)\n",
    ");\"\"\"\n",
    "\n",
    "cursor.execute(boran_table)\n",
    "db.commit()\n",
    "\n",
    "radan_table = \"\"\"CREATE TABLE RADAN_TABLE(\n",
    "            patient_id      INTEGER NOT NULL,\n",
    "            blood_pressure  FLOAT,\n",
    "            exercise        FLOAT,\n",
    "            weight          FLOAT,\n",
    "            glucose         FLOAT,\n",
    "            bmi             FLOAT,\n",
    "            planet_id       INTEGER,\n",
    "            FOREIGN KEY(patient_id) REFERENCES cross_ref_table(patient_id)\n",
    ");\"\"\"\n",
    "\n",
    "cursor.execute(radan_table)\n",
    "\n",
    "db.commit()\n",
    "\n",
    "db.close()\n"
   ]
  },
  {
   "cell_type": "code",
   "execution_count": 3,
   "metadata": {},
   "outputs": [],
   "source": [
    "#Third, CROSS_REF_TABLE\n",
    "import sqlite3\n",
    "import csv\n",
    "\n",
    "db     = sqlite3.connect('alien-life.db')\n",
    "cursor = db.cursor()\n",
    "cursor.execute(\"PRAGMA foreign_keys = 1\")\n",
    "\n",
    "with open('datasets/deidentify_list_cross_ref.csv', 'r') as f:\n",
    "    \n",
    "    fcsv = csv.reader(f)\n",
    "    \n",
    "    recs_to_load = [record for record in fcsv]\n",
    "    \n",
    "cursor.executemany(\"INSERT INTO CROSS_REF_TABLE VALUES (?, ?)\", recs_to_load[1:])\n",
    "                           \n",
    "db.commit()\n",
    "db.close()     "
   ]
  },
  {
   "cell_type": "code",
   "execution_count": 4,
   "metadata": {},
   "outputs": [],
   "source": [
    "##read the csv files into the tables respectively\n",
    "#First, BORAN_TABLE\n",
    "import sqlite3\n",
    "import csv\n",
    "\n",
    "db     = sqlite3.connect('alien-life.db')\n",
    "cursor = db.cursor()\n",
    "cursor.execute(\"PRAGMA foreign_keys = 1\")\n",
    "\n",
    "with open('datasets/boran.csv', 'r') as f: \n",
    "\n",
    "    fcsv = csv.reader(f)\n",
    "\n",
    "    recs_to_load = [record for record in fcsv]\n",
    "\n",
    "cursor.executemany(\"INSERT INTO BORAN_TABLE VALUES (?, ?, ?, ?, ?, ?, ?)\", recs_to_load[1:])\n",
    "\n",
    "db.commit()\n",
    "db.close()"
   ]
  },
  {
   "cell_type": "code",
   "execution_count": 5,
   "metadata": {},
   "outputs": [],
   "source": [
    "#Second, RADAN_TABLE\n",
    "import sqlite3\n",
    "import csv\n",
    "    \n",
    "db     = sqlite3.connect('alien-life.db')\n",
    "cursor = db.cursor()\n",
    "cursor.execute(\"PRAGMA foreign_keys = 1\")\n",
    "\n",
    "with open('datasets/radan.csv', 'r') as f: \n",
    "\n",
    "    fcsv = csv.reader(f)\n",
    "\n",
    "    recs_to_load = [record for record in fcsv]\n",
    "\n",
    "cursor.executemany(\"INSERT INTO RADAN_TABLE VALUES (?, ?, ?, ?, ?, ?, ?)\", recs_to_load[1:])\n",
    "\n",
    "db.commit()\n",
    "db.close()"
   ]
  },
  {
   "cell_type": "markdown",
   "metadata": {},
   "source": [
    "# Check the Consisitency and Validity of the Database"
   ]
  },
  {
   "cell_type": "code",
   "execution_count": 6,
   "metadata": {},
   "outputs": [
    {
     "ename": "IntegrityError",
     "evalue": "FOREIGN KEY constraint failed",
     "output_type": "error",
     "traceback": [
      "\u001b[0;31m---------------------------------------------------------------------------\u001b[0m",
      "\u001b[0;31mIntegrityError\u001b[0m                            Traceback (most recent call last)",
      "\u001b[0;32m<ipython-input-6-f853f751c449>\u001b[0m in \u001b[0;36m<module>\u001b[0;34m\u001b[0m\n\u001b[1;32m      7\u001b[0m \u001b[0mcursor\u001b[0m\u001b[0;34m.\u001b[0m\u001b[0mexecute\u001b[0m\u001b[0;34m(\u001b[0m\u001b[0;34m\"PRAGMA foreign_keys = 1\"\u001b[0m\u001b[0;34m)\u001b[0m\u001b[0;34m\u001b[0m\u001b[0;34m\u001b[0m\u001b[0m\n\u001b[1;32m      8\u001b[0m \u001b[0;34m\u001b[0m\u001b[0m\n\u001b[0;32m----> 9\u001b[0;31m \u001b[0mcursor\u001b[0m\u001b[0;34m.\u001b[0m\u001b[0mexecute\u001b[0m\u001b[0;34m(\u001b[0m\u001b[0;34m\"UPDATE boran_table SET patient_id = 3 WHERE exercise > 143\"\u001b[0m\u001b[0;34m)\u001b[0m\u001b[0;34m\u001b[0m\u001b[0;34m\u001b[0m\u001b[0m\n\u001b[0m\u001b[1;32m     10\u001b[0m \u001b[0;34m\u001b[0m\u001b[0m\n\u001b[1;32m     11\u001b[0m \u001b[0mdb\u001b[0m\u001b[0;34m.\u001b[0m\u001b[0mcommit\u001b[0m\u001b[0;34m(\u001b[0m\u001b[0;34m)\u001b[0m\u001b[0;34m\u001b[0m\u001b[0;34m\u001b[0m\u001b[0m\n",
      "\u001b[0;31mIntegrityError\u001b[0m: FOREIGN KEY constraint failed"
     ]
    }
   ],
   "source": [
    "##Here we check that the db enforces the appropriate validity checks for the boran_table\n",
    "import pandas as pd\n",
    "import sqlite3\n",
    "\n",
    "db = sqlite3.connect('alien-life.db')\n",
    "cursor = db.cursor()\n",
    "cursor.execute(\"PRAGMA foreign_keys = 1\")\n",
    "\n",
    "cursor.execute(\"UPDATE boran_table SET patient_id = 3 WHERE exercise > 143\")\n",
    "\n",
    "db.commit()\n",
    "db.close()"
   ]
  },
  {
   "cell_type": "code",
   "execution_count": 7,
   "metadata": {},
   "outputs": [
    {
     "ename": "IntegrityError",
     "evalue": "FOREIGN KEY constraint failed",
     "output_type": "error",
     "traceback": [
      "\u001b[0;31m---------------------------------------------------------------------------\u001b[0m",
      "\u001b[0;31mIntegrityError\u001b[0m                            Traceback (most recent call last)",
      "\u001b[0;32m<ipython-input-7-82c0e6ec7607>\u001b[0m in \u001b[0;36m<module>\u001b[0;34m\u001b[0m\n\u001b[1;32m      7\u001b[0m \u001b[0mcursor\u001b[0m\u001b[0;34m.\u001b[0m\u001b[0mexecute\u001b[0m\u001b[0;34m(\u001b[0m\u001b[0;34m\"PRAGMA foreign_keys = 1\"\u001b[0m\u001b[0;34m)\u001b[0m\u001b[0;34m\u001b[0m\u001b[0;34m\u001b[0m\u001b[0m\n\u001b[1;32m      8\u001b[0m \u001b[0;34m\u001b[0m\u001b[0m\n\u001b[0;32m----> 9\u001b[0;31m \u001b[0mcursor\u001b[0m\u001b[0;34m.\u001b[0m\u001b[0mexecute\u001b[0m\u001b[0;34m(\u001b[0m\u001b[0;34m\"UPDATE radan_table SET patient_id = 4569 WHERE exercise > 15\"\u001b[0m\u001b[0;34m)\u001b[0m\u001b[0;34m\u001b[0m\u001b[0;34m\u001b[0m\u001b[0m\n\u001b[0m\u001b[1;32m     10\u001b[0m \u001b[0;34m\u001b[0m\u001b[0m\n\u001b[1;32m     11\u001b[0m \u001b[0mdb\u001b[0m\u001b[0;34m.\u001b[0m\u001b[0mcommit\u001b[0m\u001b[0;34m(\u001b[0m\u001b[0;34m)\u001b[0m\u001b[0;34m\u001b[0m\u001b[0;34m\u001b[0m\u001b[0m\n",
      "\u001b[0;31mIntegrityError\u001b[0m: FOREIGN KEY constraint failed"
     ]
    }
   ],
   "source": [
    "##Here we check that the db enforces the appropriate validity checks for the radan_table\n",
    "import pandas as pd\n",
    "import sqlite3\n",
    "\n",
    "db = sqlite3.connect('alien-life.db')\n",
    "cursor = db.cursor()\n",
    "cursor.execute(\"PRAGMA foreign_keys = 1\")\n",
    "\n",
    "cursor.execute(\"UPDATE radan_table SET patient_id = 4569 WHERE exercise > 15\")\n",
    "\n",
    "db.commit()\n",
    "db.close()"
   ]
  },
  {
   "cell_type": "markdown",
   "metadata": {},
   "source": [
    "# Boran Linear Regression Process"
   ]
  },
  {
   "cell_type": "code",
   "execution_count": 8,
   "metadata": {},
   "outputs": [
    {
     "data": {
      "text/html": [
       "<div>\n",
       "<style scoped>\n",
       "    .dataframe tbody tr th:only-of-type {\n",
       "        vertical-align: middle;\n",
       "    }\n",
       "\n",
       "    .dataframe tbody tr th {\n",
       "        vertical-align: top;\n",
       "    }\n",
       "\n",
       "    .dataframe thead th {\n",
       "        text-align: right;\n",
       "    }\n",
       "</style>\n",
       "<table border=\"1\" class=\"dataframe\">\n",
       "  <thead>\n",
       "    <tr style=\"text-align: right;\">\n",
       "      <th></th>\n",
       "      <th>patient_id</th>\n",
       "      <th>blood_pressure</th>\n",
       "      <th>patient_age</th>\n",
       "      <th>exercise</th>\n",
       "      <th>weight</th>\n",
       "      <th>glucose</th>\n",
       "      <th>bmi</th>\n",
       "    </tr>\n",
       "  </thead>\n",
       "  <tbody>\n",
       "    <tr>\n",
       "      <th>0</th>\n",
       "      <td>83944</td>\n",
       "      <td>199.378675</td>\n",
       "      <td>86.055427</td>\n",
       "      <td>143.205239</td>\n",
       "      <td>148.036310</td>\n",
       "      <td>125.230960</td>\n",
       "      <td>1.045336</td>\n",
       "    </tr>\n",
       "    <tr>\n",
       "      <th>1</th>\n",
       "      <td>41989</td>\n",
       "      <td>191.853108</td>\n",
       "      <td>76.957462</td>\n",
       "      <td>102.544295</td>\n",
       "      <td>141.588777</td>\n",
       "      <td>119.807890</td>\n",
       "      <td>0.988849</td>\n",
       "    </tr>\n",
       "    <tr>\n",
       "      <th>2</th>\n",
       "      <td>94365</td>\n",
       "      <td>207.226606</td>\n",
       "      <td>85.005850</td>\n",
       "      <td>36.446482</td>\n",
       "      <td>157.499291</td>\n",
       "      <td>131.750089</td>\n",
       "      <td>1.095599</td>\n",
       "    </tr>\n",
       "    <tr>\n",
       "      <th>3</th>\n",
       "      <td>93464</td>\n",
       "      <td>203.442508</td>\n",
       "      <td>85.762916</td>\n",
       "      <td>91.476012</td>\n",
       "      <td>152.871206</td>\n",
       "      <td>128.586136</td>\n",
       "      <td>1.071569</td>\n",
       "    </tr>\n",
       "    <tr>\n",
       "      <th>4</th>\n",
       "      <td>57985</td>\n",
       "      <td>194.236774</td>\n",
       "      <td>72.326139</td>\n",
       "      <td>9.071701</td>\n",
       "      <td>145.584071</td>\n",
       "      <td>122.141463</td>\n",
       "      <td>1.000579</td>\n",
       "    </tr>\n",
       "  </tbody>\n",
       "</table>\n",
       "</div>"
      ],
      "text/plain": [
       "   patient_id  blood_pressure  patient_age    exercise      weight  \\\n",
       "0       83944      199.378675    86.055427  143.205239  148.036310   \n",
       "1       41989      191.853108    76.957462  102.544295  141.588777   \n",
       "2       94365      207.226606    85.005850   36.446482  157.499291   \n",
       "3       93464      203.442508    85.762916   91.476012  152.871206   \n",
       "4       57985      194.236774    72.326139    9.071701  145.584071   \n",
       "\n",
       "      glucose       bmi  \n",
       "0  125.230960  1.045336  \n",
       "1  119.807890  0.988849  \n",
       "2  131.750089  1.095599  \n",
       "3  128.586136  1.071569  \n",
       "4  122.141463  1.000579  "
      ]
     },
     "execution_count": 8,
     "metadata": {},
     "output_type": "execute_result"
    }
   ],
   "source": [
    "import pandas as pd\n",
    "import sqlite3\n",
    "\n",
    "db     = sqlite3.connect('alien-life.db')\n",
    "\n",
    "\n",
    "df = pd.read_sql_query(\"\"\"SELECT boran_table.patient_id, boran_table.blood_pressure, cross_ref_table.patient_age, boran_table.exercise, boran_table.weight, boran_table.glucose, boran_table.bmi\n",
    "        FROM boran_table \n",
    "        LEFT JOIN cross_ref_table ON boran_table.patient_id = cross_ref_table.patient_id\"\"\", db)\n",
    "\n",
    "##there exists no null values, but in case the full data set has them we include the following\n",
    "df.fillna(df.mean()).head(5)"
   ]
  },
  {
   "cell_type": "code",
   "execution_count": 9,
   "metadata": {},
   "outputs": [],
   "source": [
    "cols = ['patient_age']\n",
    "X_boran = df[cols]\n",
    "Y_boran = df['blood_pressure']"
   ]
  },
  {
   "cell_type": "code",
   "execution_count": 10,
   "metadata": {},
   "outputs": [],
   "source": [
    "from sklearn.linear_model import LinearRegression"
   ]
  },
  {
   "cell_type": "code",
   "execution_count": 11,
   "metadata": {},
   "outputs": [],
   "source": [
    "model = LinearRegression()"
   ]
  },
  {
   "cell_type": "code",
   "execution_count": 12,
   "metadata": {},
   "outputs": [
    {
     "data": {
      "text/plain": [
       "LinearRegression(copy_X=True, fit_intercept=True, n_jobs=None, normalize=False)"
      ]
     },
     "execution_count": 12,
     "metadata": {},
     "output_type": "execute_result"
    }
   ],
   "source": [
    "model.fit(X_boran, Y_boran)"
   ]
  },
  {
   "cell_type": "code",
   "execution_count": 13,
   "metadata": {},
   "outputs": [
    {
     "data": {
      "text/plain": [
       "array([1.14074587])"
      ]
     },
     "execution_count": 13,
     "metadata": {},
     "output_type": "execute_result"
    }
   ],
   "source": [
    "##find the mk value\n",
    "model.coef_"
   ]
  },
  {
   "cell_type": "code",
   "execution_count": 15,
   "metadata": {},
   "outputs": [
    {
     "data": {
      "text/plain": [
       "106.45741672344948"
      ]
     },
     "execution_count": 15,
     "metadata": {},
     "output_type": "execute_result"
    }
   ],
   "source": [
    "##find the Bk value\n",
    "model.intercept_"
   ]
  },
  {
   "cell_type": "code",
   "execution_count": 16,
   "metadata": {},
   "outputs": [
    {
     "name": "stdout",
     "output_type": "stream",
     "text": [
      "total_error:  636.396934835724\n",
      "mse:  21.213231161190798\n",
      "rmse:  4.605782361465943\n"
     ]
    }
   ],
   "source": [
    "##test accuracy\n",
    "preds = model.predict(X_boran)\n",
    "preds.std()\n",
    "error = preds - Y_boran\n",
    "\n",
    "total_error = 0\n",
    "for item in error:\n",
    "    total_error += (item * item)\n",
    "    \n",
    "print('total_error: ', total_error)\n",
    "\n",
    "mse = total_error/len(error)\n",
    "print('mse: ', mse)\n",
    "\n",
    "import numpy as np\n",
    "rmse = np.sqrt(mse)\n",
    "print('rmse: ', rmse)"
   ]
  },
  {
   "cell_type": "markdown",
   "metadata": {},
   "source": [
    "# Radan Linear Regression Process"
   ]
  },
  {
   "cell_type": "code",
   "execution_count": 17,
   "metadata": {},
   "outputs": [
    {
     "data": {
      "text/html": [
       "<div>\n",
       "<style scoped>\n",
       "    .dataframe tbody tr th:only-of-type {\n",
       "        vertical-align: middle;\n",
       "    }\n",
       "\n",
       "    .dataframe tbody tr th {\n",
       "        vertical-align: top;\n",
       "    }\n",
       "\n",
       "    .dataframe thead th {\n",
       "        text-align: right;\n",
       "    }\n",
       "</style>\n",
       "<table border=\"1\" class=\"dataframe\">\n",
       "  <thead>\n",
       "    <tr style=\"text-align: right;\">\n",
       "      <th></th>\n",
       "      <th>patient_id</th>\n",
       "      <th>blood_pressure</th>\n",
       "      <th>patient_age</th>\n",
       "      <th>exercise</th>\n",
       "      <th>weight</th>\n",
       "      <th>glucose</th>\n",
       "      <th>bmi</th>\n",
       "    </tr>\n",
       "  </thead>\n",
       "  <tbody>\n",
       "    <tr>\n",
       "      <th>0</th>\n",
       "      <td>83944</td>\n",
       "      <td>199.378675</td>\n",
       "      <td>86.055427</td>\n",
       "      <td>143.205239</td>\n",
       "      <td>148.03631</td>\n",
       "      <td>125.23096</td>\n",
       "      <td>1.045336</td>\n",
       "    </tr>\n",
       "  </tbody>\n",
       "</table>\n",
       "</div>"
      ],
      "text/plain": [
       "   patient_id  blood_pressure  patient_age    exercise     weight    glucose  \\\n",
       "0       83944      199.378675    86.055427  143.205239  148.03631  125.23096   \n",
       "\n",
       "        bmi  \n",
       "0  1.045336  "
      ]
     },
     "execution_count": 17,
     "metadata": {},
     "output_type": "execute_result"
    }
   ],
   "source": [
    "import pandas as pd\n",
    "import sqlite3\n",
    "\n",
    "db     = sqlite3.connect('alien-life.db')\n",
    "\n",
    "\n",
    "df2 = pd.read_sql_query(\"\"\"SELECT radan_table.patient_id, radan_table.blood_pressure, cross_ref_table.patient_age, radan_table.exercise, radan_table.weight, radan_table.glucose, radan_table.bmi\n",
    "        FROM radan_table \n",
    "        LEFT JOIN cross_ref_table ON radan_table.patient_id = cross_ref_table.patient_id\"\"\", db)\n",
    "\n",
    "##there exists no null values, but in case the full data set has them we include the following\n",
    "df2.fillna(df.mean()).head(1)"
   ]
  },
  {
   "cell_type": "code",
   "execution_count": 18,
   "metadata": {},
   "outputs": [],
   "source": [
    "cols = ['patient_age']\n",
    "X_radan = df2[cols]\n",
    "Y_radan = df2['blood_pressure']"
   ]
  },
  {
   "cell_type": "code",
   "execution_count": 19,
   "metadata": {},
   "outputs": [],
   "source": [
    "from sklearn.linear_model import LinearRegression"
   ]
  },
  {
   "cell_type": "code",
   "execution_count": 20,
   "metadata": {},
   "outputs": [],
   "source": [
    "model = LinearRegression()"
   ]
  },
  {
   "cell_type": "code",
   "execution_count": 21,
   "metadata": {},
   "outputs": [
    {
     "data": {
      "text/plain": [
       "LinearRegression(copy_X=True, fit_intercept=True, n_jobs=None, normalize=False)"
      ]
     },
     "execution_count": 21,
     "metadata": {},
     "output_type": "execute_result"
    }
   ],
   "source": [
    "model.fit(X_radan, Y_radan)"
   ]
  },
  {
   "cell_type": "code",
   "execution_count": 22,
   "metadata": {},
   "outputs": [
    {
     "data": {
      "text/plain": [
       "array([0.47088464])"
      ]
     },
     "execution_count": 22,
     "metadata": {},
     "output_type": "execute_result"
    }
   ],
   "source": [
    "##find the mk value\n",
    "model.coef_"
   ]
  },
  {
   "cell_type": "code",
   "execution_count": 23,
   "metadata": {},
   "outputs": [
    {
     "data": {
      "text/plain": [
       "63.825776453326256"
      ]
     },
     "execution_count": 23,
     "metadata": {},
     "output_type": "execute_result"
    }
   ],
   "source": [
    "##find the Bk value\n",
    "model.intercept_"
   ]
  },
  {
   "cell_type": "code",
   "execution_count": 24,
   "metadata": {},
   "outputs": [
    {
     "name": "stdout",
     "output_type": "stream",
     "text": [
      "total_error:  216.22906224639857\n",
      "mse:  7.207635408213286\n",
      "rmse:  2.6847039703127953\n"
     ]
    }
   ],
   "source": [
    "##test accuracy\n",
    "preds = model.predict(X_radan)\n",
    "preds.std()\n",
    "error = preds - Y_radan\n",
    "\n",
    "total_error = 0\n",
    "for item in error:\n",
    "    total_error += (item * item)\n",
    "    \n",
    "print('total_error: ', total_error)\n",
    "\n",
    "mse = total_error/len(error)\n",
    "print('mse: ', mse)\n",
    "\n",
    "import numpy as np\n",
    "rmse = np.sqrt(mse)\n",
    "print('rmse: ', rmse)"
   ]
  },
  {
   "cell_type": "markdown",
   "metadata": {},
   "source": [
    "# Generate plots for the histogram age distribution for each planet"
   ]
  },
  {
   "cell_type": "markdown",
   "metadata": {},
   "source": [
    "### 1. Boran"
   ]
  },
  {
   "cell_type": "code",
   "execution_count": 25,
   "metadata": {},
   "outputs": [],
   "source": [
    "import numpy as np\n",
    "bages = np.asarray(X_boran)"
   ]
  },
  {
   "cell_type": "code",
   "execution_count": 27,
   "metadata": {},
   "outputs": [
    {
     "data": {
      "image/png": "[encoded data removed]",
      "text/plain": [
       "<Figure size 432x288 with 1 Axes>"
      ]
     },
     "metadata": {
      "needs_background": "light"
     },
     "output_type": "display_data"
    }
   ],
   "source": [
    "import matplotlib.pyplot as plt\n",
    "\n",
    "bins = [50, 60, 70, 80, 90, 100]\n",
    "\n",
    "plt.hist(bages, bins, histtype='bar', rwidth = 0.8)\n",
    "\n",
    "plt.xlabel('Ages')\n",
    "plt.ylabel('Number of Aliens')\n",
    "plt.title('Boran Age Distribution')\n",
    "plt.show()"
   ]
  },
  {
   "cell_type": "markdown",
   "metadata": {},
   "source": [
    "### (a) What is the mean (average) life expectance of the creatures on Boran?"
   ]
  },
  {
   "cell_type": "code",
   "execution_count": 28,
   "metadata": {},
   "outputs": [
    {
     "data": {
      "text/plain": [
       "76.41943114989894"
      ]
     },
     "execution_count": 28,
     "metadata": {},
     "output_type": "execute_result"
    }
   ],
   "source": [
    "bages.mean()"
   ]
  },
  {
   "cell_type": "markdown",
   "metadata": {},
   "source": [
    "### (b) What is the probability of a creature living past the mean life expectancy on Boran?"
   ]
  },
  {
   "cell_type": "code",
   "execution_count": 29,
   "metadata": {},
   "outputs": [
    {
     "data": {
      "text/plain": [
       "0.5"
      ]
     },
     "execution_count": 29,
     "metadata": {},
     "output_type": "execute_result"
    }
   ],
   "source": [
    "count = 0\n",
    "for age in bages:\n",
    "    if age > bages.mean():\n",
    "        count += 1\n",
    "prob = count/len(bages)\n",
    "prob"
   ]
  },
  {
   "cell_type": "markdown",
   "metadata": {},
   "source": [
    "### 2. Radan"
   ]
  },
  {
   "cell_type": "code",
   "execution_count": 30,
   "metadata": {},
   "outputs": [],
   "source": [
    "import numpy as np\n",
    "rages = np.asarray(X_radan)"
   ]
  },
  {
   "cell_type": "code",
   "execution_count": 31,
   "metadata": {},
   "outputs": [
    {
     "data": {
      "image/png": "[encoded data removed]",
      "text/plain": [
       "<Figure size 432x288 with 1 Axes>"
      ]
     },
     "metadata": {
      "needs_background": "light"
     },
     "output_type": "display_data"
    }
   ],
   "source": [
    "import matplotlib.pyplot as plt\n",
    "\n",
    "bins = [50, 60, 70, 80, 90, 100]\n",
    "\n",
    "plt.hist(rages, bins, histtype='bar', rwidth = 0.8)\n",
    "\n",
    "plt.xlabel('Ages')\n",
    "plt.ylabel('Number of Aliens')\n",
    "plt.title('Radan Age Distribution')\n",
    "plt.show()"
   ]
  },
  {
   "cell_type": "markdown",
   "metadata": {},
   "source": [
    "### (a) What is the mean (average) life expectance of the creatures on Radan?"
   ]
  },
  {
   "cell_type": "code",
   "execution_count": 32,
   "metadata": {},
   "outputs": [
    {
     "data": {
      "text/plain": [
       "84.21706879853835"
      ]
     },
     "execution_count": 32,
     "metadata": {},
     "output_type": "execute_result"
    }
   ],
   "source": [
    "rages.mean()"
   ]
  },
  {
   "cell_type": "markdown",
   "metadata": {},
   "source": [
    "### b) What is the probability of a creature living past the mean life expectancy on Boran?"
   ]
  },
  {
   "cell_type": "code",
   "execution_count": 33,
   "metadata": {},
   "outputs": [
    {
     "data": {
      "text/plain": [
       "0.43333333333333335"
      ]
     },
     "execution_count": 33,
     "metadata": {},
     "output_type": "execute_result"
    }
   ],
   "source": [
    "count = 0\n",
    "for age in rages:\n",
    "    if age > rages.mean():\n",
    "        count += 1\n",
    "prob = count/len(rages)\n",
    "prob"
   ]
  }
 ],
 "metadata": {
  "kernelspec": {
   "display_name": "Python 3",
   "language": "python",
   "name": "python3"
  },
  "language_info": {
   "codemirror_mode": {
    "name": "ipython",
    "version": 3
   },
   "file_extension": ".py",
   "mimetype": "text/x-python",
   "name": "python",
   "nbconvert_exporter": "python",
   "pygments_lexer": "ipython3",
   "version": "3.7.4"
  }
 },
 "nbformat": 4,
 "nbformat_minor": 2
}
