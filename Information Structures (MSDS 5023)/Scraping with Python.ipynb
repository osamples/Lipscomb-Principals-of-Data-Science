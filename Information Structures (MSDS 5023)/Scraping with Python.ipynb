{
 "cells": [
  {
   "cell_type": "raw",
   "metadata": {},
   "source": [
    "!dir"
   ]
  },
  {
   "cell_type": "code",
   "execution_count": 2,
   "metadata": {},
   "outputs": [
    {
     "name": "stdout",
     "output_type": "stream",
     "text": [
      "On branch master\n",
      "Your branch is up to date with 'origin/master'.\n",
      "\n",
      "Untracked files:\n",
      "  (use \"git add <file>...\" to include in what will be committed)\n",
      "\tUntitled.ipynb\n",
      "\n",
      "nothing added to commit but untracked files present (use \"git add\" to track)\n"
     ]
    }
   ],
   "source": [
    "!git status"
   ]
  },
  {
   "cell_type": "code",
   "execution_count": 5,
   "metadata": {},
   "outputs": [],
   "source": [
    "# you can things called magics - line ,cell,"
   ]
  },
  {
   "cell_type": "code",
   "execution_count": 24,
   "metadata": {},
   "outputs": [],
   "source": [
    "import pandas as pd\n",
    "import bs4\n",
    "import requests\n",
    "import numpy as np"
   ]
  },
  {
   "cell_type": "code",
   "execution_count": 8,
   "metadata": {},
   "outputs": [],
   "source": [
    "response = requests.get('https://www.fsis.usda.gov/wps/portal/fsis/topics/recalls-and-public-health-alerts/current-recalls-and-alerts')"
   ]
  },
  {
   "cell_type": "code",
   "execution_count": 9,
   "metadata": {},
   "outputs": [],
   "source": [
    "soup = bs4.BeautifulSoup(response.content, 'html.parser')"
   ]
  },
  {
   "cell_type": "code",
   "execution_count": 16,
   "metadata": {},
   "outputs": [],
   "source": [
    "recalls = soup.find_all('span', attrs = {'class':'recall-date'}) \n",
    "recalllist = []\n",
    "\n",
    "for recall in recalls:\n",
    "    recalllist.append(str.strip(recall.text))    "
   ]
  },
  {
   "cell_type": "code",
   "execution_count": null,
   "metadata": {},
   "outputs": [],
   "source": []
  },
  {
   "cell_type": "code",
   "execution_count": 20,
   "metadata": {},
   "outputs": [],
   "source": [
    "titles = soup.find_all('div',attrs={'class':'display-titles'})\n",
    "\n",
    "titlelist = []\n",
    "\n",
    "for title in titles:\n",
    "    titlelist.append(str.strip(title.text))"
   ]
  },
  {
   "cell_type": "code",
   "execution_count": 21,
   "metadata": {},
   "outputs": [
    {
     "data": {
      "text/plain": [
       "['023-2018',\n",
       " '023-2018',\n",
       " '023-2018',\n",
       " '023-2018',\n",
       " '023-2018',\n",
       " '023-2018',\n",
       " '023-2018',\n",
       " '023-2018',\n",
       " '023-2018',\n",
       " '023-2018',\n",
       " '023-2018',\n",
       " '023-2018',\n",
       " '023-2018',\n",
       " '023-2018',\n",
       " '023-2018',\n",
       " '023-2018',\n",
       " '023-2018',\n",
       " '023-2018',\n",
       " '023-2018',\n",
       " '023-2018',\n",
       " '023-2018',\n",
       " '023-2018',\n",
       " '023-2018',\n",
       " '023-2018',\n",
       " '023-2018',\n",
       " '023-2018',\n",
       " '023-2018',\n",
       " '023-2018',\n",
       " '023-2018',\n",
       " '023-2018',\n",
       " '023-2018',\n",
       " '023-2018',\n",
       " '023-2018',\n",
       " '023-2018',\n",
       " '023-2018',\n",
       " '023-2018',\n",
       " '023-2018',\n",
       " '023-2018',\n",
       " '023-2018',\n",
       " '023-2018',\n",
       " '023-2018',\n",
       " '023-2018',\n",
       " '023-2018',\n",
       " '023-2018',\n",
       " '023-2018',\n",
       " '023-2018',\n",
       " '023-2018',\n",
       " '023-2018',\n",
       " '023-2018',\n",
       " '023-2018',\n",
       " '023-2018',\n",
       " '023-2018',\n",
       " '023-2018',\n",
       " '023-2018',\n",
       " '023-2018',\n",
       " '023-2018',\n",
       " '023-2018',\n",
       " '023-2018',\n",
       " '023-2018',\n",
       " '023-2018',\n",
       " '023-2018',\n",
       " '023-2018',\n",
       " '023-2018',\n",
       " '023-2018',\n",
       " '023-2018',\n",
       " '023-2018',\n",
       " '023-2018',\n",
       " '023-2018',\n",
       " '023-2018']"
      ]
     },
     "execution_count": 21,
     "metadata": {},
     "output_type": "execute_result"
    }
   ],
   "source": [
    "qtys = soup.find_all('div',attrs={'class':'qty-recalled'})\n",
    "\n",
    "qtylist = []\n",
    "\n",
    "for qty in qtys:\n",
    "    qtylist.append(str.strip(recall.text))\n",
    "qtylist"
   ]
  },
  {
   "cell_type": "code",
   "execution_count": 22,
   "metadata": {},
   "outputs": [],
   "source": [
    "# we used the find_all function with a tuple inside and an embedded dictionary indicated by the {} "
   ]
  },
  {
   "cell_type": "code",
   "execution_count": 28,
   "metadata": {},
   "outputs": [
    {
     "ename": "SyntaxError",
     "evalue": "unexpected EOF while parsing (<ipython-input-28-7da391706305>, line 1)",
     "output_type": "error",
     "traceback": [
      "\u001b[1;36m  File \u001b[1;32m\"<ipython-input-28-7da391706305>\"\u001b[1;36m, line \u001b[1;32m1\u001b[0m\n\u001b[1;33m    recalldf = pd.DataFrame(list(zip(titlelist, recalllist,qtylist)),columns = ['title','recall_date','qty']\u001b[0m\n\u001b[1;37m                                                                                                            ^\u001b[0m\n\u001b[1;31mSyntaxError\u001b[0m\u001b[1;31m:\u001b[0m unexpected EOF while parsing\n"
     ]
    }
   ],
   "source": [
    "recalldf = pd.DataFrame(list(zip(titlelist, recalllist,qtylist)),columns = ['title','recall_date','qty']"
   ]
  },
  {
   "cell_type": "code",
   "execution_count": null,
   "metadata": {},
   "outputs": [],
   "source": [
    "recalldf.recall_date = pd.to_datetime(recalldf.recall_date)"
   ]
  },
  {
   "cell_type": "code",
   "execution_count": 26,
   "metadata": {},
   "outputs": [
    {
     "ename": "TypeError",
     "evalue": "'NoneType' object is not callable",
     "output_type": "error",
     "traceback": [
      "\u001b[1;31m---------------------------------------------------------------------------\u001b[0m",
      "\u001b[1;31mTypeError\u001b[0m                                 Traceback (most recent call last)",
      "\u001b[1;32m<ipython-input-26-2cb4d4977b5e>\u001b[0m in \u001b[0;36m<module>\u001b[1;34m\u001b[0m\n\u001b[1;32m----> 1\u001b[1;33m \u001b[0mrecall\u001b[0m\u001b[1;33m.\u001b[0m\u001b[0mreplace\u001b[0m\u001b[1;33m(\u001b[0m\u001b[1;34mr'^\\s.*$'\u001b[0m\u001b[1;33m,\u001b[0m \u001b[0mnp\u001b[0m\u001b[1;33m.\u001b[0m\u001b[0mnan\u001b[0m\u001b[1;33m,\u001b[0m\u001b[0mregex\u001b[0m\u001b[1;33m=\u001b[0m\u001b[1;32mTrue\u001b[0m\u001b[1;33m,\u001b[0m \u001b[0minplace\u001b[0m\u001b[1;33m=\u001b[0m\u001b[1;32mTrue\u001b[0m\u001b[1;33m)\u001b[0m\u001b[1;33m\u001b[0m\u001b[1;33m\u001b[0m\u001b[0m\n\u001b[0m",
      "\u001b[1;31mTypeError\u001b[0m: 'NoneType' object is not callable"
     ]
    }
   ],
   "source": [
    "recall.replace(r'^\\s.*$', np.nan, regex=True, inplace=True)"
   ]
  },
  {
   "cell_type": "code",
   "execution_count": null,
   "metadata": {},
   "outputs": [],
   "source": [
    "recall.replace(r'^N/A.*$',np.nan,regex=True, inplace=True)"
   ]
  }
 ],
 "metadata": {
  "kernelspec": {
   "display_name": "Python 3",
   "language": "python",
   "name": "python3"
  },
  "language_info": {
   "codemirror_mode": {
    "name": "ipython",
    "version": 3
   },
   "file_extension": ".py",
   "mimetype": "text/x-python",
   "name": "python",
   "nbconvert_exporter": "python",
   "pygments_lexer": "ipython3",
   "version": "3.7.3"
  }
 },
 "nbformat": 4,
 "nbformat_minor": 2
}
